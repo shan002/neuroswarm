{
 "cells": [
  {
   "cell_type": "code",
   "execution_count": 22,
   "id": "7342af56",
   "metadata": {},
   "outputs": [
    {
     "name": "stdout",
     "output_type": "stream",
     "text": [
      "Caspian package location: /home/shan/neuromorphic/framework/pyframework/lib/python3.13/site-packages/caspian.cpython-313-x86_64-linux-gnu.so\n"
     ]
    }
   ],
   "source": [
    "import inspect\n",
    "import caspian\n",
    "\n",
    "print(f\"Caspian package location: {inspect.getfile(caspian)}\")"
   ]
  },
  {
   "cell_type": "code",
   "execution_count": 23,
   "id": "f0c9281e",
   "metadata": {},
   "outputs": [],
   "source": [
    "from caspian import Network, Neuron, Synapse"
   ]
  },
  {
   "cell_type": "code",
   "execution_count": 24,
   "id": "f2c960c6",
   "metadata": {},
   "outputs": [
    {
     "name": "stdout",
     "output_type": "stream",
     "text": [
      "/home/shan/neuromorphic/framework/pyframework/lib/python3.13/site-packages/caspian.cpython-313-x86_64-linux-gnu.so\n"
     ]
    }
   ],
   "source": [
    "print(caspian.__file__)"
   ]
  },
  {
   "cell_type": "code",
   "execution_count": 16,
   "id": "58bd5d75",
   "metadata": {},
   "outputs": [
    {
     "name": "stdout",
     "output_type": "stream",
     "text": [
      "Help on class Network in module caspian:\n",
      "\n",
      "class Network(pybind11_builtins.pybind11_object)\n",
      " |  Method resolution order:\n",
      " |      Network\n",
      " |      pybind11_builtins.pybind11_object\n",
      " |      builtins.object\n",
      " |\n",
      " |  Methods defined here:\n",
      " |\n",
      " |  __contains__(...)\n",
      " |      __contains__(self: caspian.Network, arg0: caspian.Neuron) -> bool\n",
      " |\n",
      " |  __delitem__(...)\n",
      " |      __delitem__(self: caspian.Network, arg0: int) -> None\n",
      " |\n",
      " |  __getitem__(...)\n",
      " |      __getitem__(self: caspian.Network, arg0: int) -> caspian.Neuron\n",
      " |\n",
      " |  __getstate__(...)\n",
      " |      __getstate__(self: caspian.Network) -> tuple\n",
      " |\n",
      " |  __init__(...)\n",
      " |      __init__(self: caspian.Network, size: int = 0) -> None\n",
      " |\n",
      " |  __iter__(...)\n",
      " |      __iter__(self: caspian.Network) -> Iterator[tuple[int, caspian.Neuron]]\n",
      " |\n",
      " |  __len__(...)\n",
      " |      __len__(self: caspian.Network) -> int\n",
      " |\n",
      " |  __repr__(...)\n",
      " |      __repr__(self: caspian.Network) -> str\n",
      " |\n",
      " |  __setitem__(...)\n",
      " |      __setitem__(self: caspian.Network, arg0: int, arg1: caspian.Neuron) -> None\n",
      " |\n",
      " |  __setstate__(...)\n",
      " |      __setstate__(self: caspian.Network, arg0: tuple) -> None\n",
      " |\n",
      " |  add_neuron(...)\n",
      " |      add_neuron(self: caspian.Network, nid: int, threshold: int = 0, leak: int = -1, delay: int = 0) -> None\n",
      " |\n",
      " |  add_synapse(...)\n",
      " |      add_synapse(self: caspian.Network, from: int, to: int, weight: int, delay: int = 0) -> None\n",
      " |\n",
      " |  clear_activity(...)\n",
      " |      clear_activity(self: caspian.Network) -> None\n",
      " |\n",
      " |  dump(...)\n",
      " |      dump(self: caspian.Network) -> json\n",
      " |\n",
      " |  from_str(...)\n",
      " |      from_str(self: caspian.Network, arg0: str) -> None\n",
      " |\n",
      " |  get_input(...)\n",
      " |      get_input(self: caspian.Network, input_id: int) -> int\n",
      " |\n",
      " |  get_metric(...)\n",
      " |      get_metric(self: caspian.Network, metric: str) -> float\n",
      " |\n",
      " |  get_neuron(...)\n",
      " |      get_neuron(self: caspian.Network, nid: int) -> caspian.Neuron\n",
      " |\n",
      " |  get_neuron_list(...)\n",
      " |      get_neuron_list(self: caspian.Network) -> list[int]\n",
      " |\n",
      " |  get_output(...)\n",
      " |      get_output(self: caspian.Network, output_id: int) -> int\n",
      " |\n",
      " |  get_random_input(...)\n",
      " |      get_random_input(self: caspian.Network) -> int\n",
      " |\n",
      " |  get_random_neuron(...)\n",
      " |      get_random_neuron(self: caspian.Network, only_hidden: bool = False) -> int\n",
      " |\n",
      " |  get_random_output(...)\n",
      " |      get_random_output(self: caspian.Network) -> int\n",
      " |\n",
      " |  get_random_synapse(...)\n",
      " |      get_random_synapse(self: caspian.Network) -> tuple[int, int]\n",
      " |\n",
      " |  get_synapse(...)\n",
      " |      get_synapse(self: caspian.Network, from: int, to: int) -> caspian.Synapse\n",
      " |\n",
      " |  get_synapse_list(...)\n",
      " |      get_synapse_list(self: caspian.Network) -> list[tuple[int, int]]\n",
      " |\n",
      " |  get_time(...)\n",
      " |      get_time(self: caspian.Network) -> int\n",
      " |\n",
      " |  is_neuron(...)\n",
      " |      is_neuron(self: caspian.Network, nid: int) -> bool\n",
      " |\n",
      " |  is_synapse(...)\n",
      " |      is_synapse(self: caspian.Network, from: int, to: int) -> bool\n",
      " |\n",
      " |  load(...)\n",
      " |      load(self: caspian.Network, arg0: json) -> bool\n",
      " |\n",
      " |  make_random(...)\n",
      " |      make_random(self: caspian.Network, n_inputs: int, n_outputs: int, seed: int, n_input_synapses: int = -1, n_output_synapses: int = -1, n_hidden_synapses: int = -1, n_hidden_synapses_max: int = -1, inhibitory_percentage: float = 0.2, threshold_range: tuple[int, int] = (0, 255), leak_range: tuple[int, int] = (-1, 4), weight_range: tuple[int, int] = (0, 127), delay_range: tuple[int, int] = (0, 15)) -> None\n",
      " |\n",
      " |  num_inputs(...)\n",
      " |      num_inputs(self: caspian.Network) -> int\n",
      " |\n",
      " |  num_neurons(...)\n",
      " |      num_neurons(self: caspian.Network) -> int\n",
      " |\n",
      " |  num_outputs(...)\n",
      " |      num_outputs(self: caspian.Network) -> int\n",
      " |\n",
      " |  num_synapses(...)\n",
      " |      num_synapses(self: caspian.Network) -> int\n",
      " |\n",
      " |  prune(...)\n",
      " |      prune(self: caspian.Network, io_prune: bool = False) -> None\n",
      " |\n",
      " |  remove_neuron(...)\n",
      " |      remove_neuron(self: caspian.Network, nid: int) -> bool\n",
      " |\n",
      " |  remove_synapse(...)\n",
      " |      remove_synapse(self: caspian.Network, from: int, to: int) -> bool\n",
      " |\n",
      " |  reset(...)\n",
      " |      reset(self: caspian.Network) -> None\n",
      " |\n",
      " |  set_input(...)\n",
      " |      set_input(self: caspian.Network, nid: int, input_id: int) -> None\n",
      " |\n",
      " |  set_output(...)\n",
      " |      set_output(self: caspian.Network, nid: int, output_id: int) -> None\n",
      " |\n",
      " |  to_gml(...)\n",
      " |      to_gml(self: caspian.Network) -> str\n",
      " |\n",
      " |  to_str(...)\n",
      " |      to_str(self: caspian.Network) -> str\n",
      " |\n",
      " |  ----------------------------------------------------------------------\n",
      " |  Data descriptors defined here:\n",
      " |\n",
      " |  soft_reset\n",
      " |\n",
      " |  ----------------------------------------------------------------------\n",
      " |  Static methods inherited from pybind11_builtins.pybind11_object:\n",
      " |\n",
      " |  __new__(*args, **kwargs) class method of pybind11_builtins.pybind11_object\n",
      " |      Create and return a new object.  See help(type) for accurate signature.\n",
      "\n"
     ]
    }
   ],
   "source": [
    "help(Network)"
   ]
  },
  {
   "cell_type": "code",
   "execution_count": 27,
   "id": "828e2645",
   "metadata": {},
   "outputs": [
    {
     "name": "stdout",
     "output_type": "stream",
     "text": [
      "Help on class Neuron in module caspian:\n",
      "\n",
      "class Neuron(pybind11_builtins.pybind11_object)\n",
      " |  Method resolution order:\n",
      " |      Neuron\n",
      " |      pybind11_builtins.pybind11_object\n",
      " |      builtins.object\n",
      " |\n",
      " |  Methods defined here:\n",
      " |\n",
      " |  __getitem__(...)\n",
      " |      __getitem__(self: caspian.Neuron, arg0: int) -> caspian::Synapse\n",
      " |\n",
      " |  __init__(...)\n",
      " |      __init__(*args, **kwargs)\n",
      " |      Overloaded function.\n",
      " |\n",
      " |      1. __init__(self: caspian.Neuron) -> None\n",
      " |\n",
      " |      2. __init__(self: caspian.Neuron, threshold: int, nid: int, leak: int = -1, delay: int = 0) -> None\n",
      " |\n",
      " |  __iter__(...)\n",
      " |      __iter__(self: caspian.Neuron) -> Iterator[tuple[int, caspian::Synapse]]\n",
      " |\n",
      " |  __len__(...)\n",
      " |      __len__(self: caspian.Neuron) -> int\n",
      " |\n",
      " |  dump(...)\n",
      " |      dump(self: caspian.Neuron) -> json\n",
      " |\n",
      " |  ----------------------------------------------------------------------\n",
      " |  Readonly properties defined here:\n",
      " |\n",
      " |  charge\n",
      " |\n",
      " |  input_id\n",
      " |\n",
      " |  nid\n",
      " |\n",
      " |  output_id\n",
      " |\n",
      " |  ----------------------------------------------------------------------\n",
      " |  Data descriptors defined here:\n",
      " |\n",
      " |  delay\n",
      " |\n",
      " |  leak\n",
      " |\n",
      " |  threshold\n",
      " |\n",
      " |  ----------------------------------------------------------------------\n",
      " |  Static methods inherited from pybind11_builtins.pybind11_object:\n",
      " |\n",
      " |  __new__(*args, **kwargs) class method of pybind11_builtins.pybind11_object\n",
      " |      Create and return a new object.  See help(type) for accurate signature.\n",
      "\n"
     ]
    }
   ],
   "source": [
    "help(Neuron)"
   ]
  },
  {
   "cell_type": "code",
   "execution_count": 31,
   "id": "ca168401",
   "metadata": {},
   "outputs": [],
   "source": [
    "network = Network()\n",
    "network.add_neuron(nid=0, threshold=1)\n",
    "network.add_neuron(nid=1, threshold=1)"
   ]
  },
  {
   "cell_type": "code",
   "execution_count": 34,
   "id": "52f9fdbb",
   "metadata": {},
   "outputs": [
    {
     "name": "stdout",
     "output_type": "stream",
     "text": [
      "Network contains 2 neurons.\n"
     ]
    }
   ],
   "source": [
    "print(f\"Network contains {len(network.get_neuron_list())} neurons.\")"
   ]
  }
 ],
 "metadata": {
  "kernelspec": {
   "display_name": "pyframework",
   "language": "python",
   "name": "python3"
  },
  "language_info": {
   "codemirror_mode": {
    "name": "ipython",
    "version": 3
   },
   "file_extension": ".py",
   "mimetype": "text/x-python",
   "name": "python",
   "nbconvert_exporter": "python",
   "pygments_lexer": "ipython3",
   "version": "3.13.2"
  }
 },
 "nbformat": 4,
 "nbformat_minor": 5
}
