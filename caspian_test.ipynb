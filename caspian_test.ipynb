{
 "cells": [
  {
   "cell_type": "markdown",
   "id": "b540be40",
   "metadata": {
    "editable": true,
    "slideshow": {
     "slide_type": ""
    },
    "tags": []
   },
   "source": [
    "# Create and Run a Simple Network with Caspian"
   ]
  },
  {
   "cell_type": "markdown",
   "id": "5743040a",
   "metadata": {
    "editable": true,
    "slideshow": {
     "slide_type": ""
    },
    "tags": []
   },
   "source": []
  },
  {
   "cell_type": "code",
   "execution_count": 2,
   "id": "cb35fca0",
   "metadata": {
    "editable": true,
    "jupyter": {
     "source_hidden": true
    },
    "slideshow": {
     "slide_type": ""
    },
    "tags": []
   },
   "outputs": [],
   "source": [
    "import neuro\n",
    "import caspian\n",
    "import risp\n",
    "import json"
   ]
  },
  {
   "cell_type": "markdown",
   "id": "d8f8f294",
   "metadata": {
    "editable": true,
    "slideshow": {
     "slide_type": ""
    },
    "tags": []
   },
   "source": [
    "### Setup processor"
   ]
  },
  {
   "cell_type": "code",
   "execution_count": 3,
   "id": "d35513ac-9a0e-48f6-8bc3-f9b1a7e4eb45",
   "metadata": {
    "editable": true,
    "jupyter": {
     "source_hidden": true
    },
    "slideshow": {
     "slide_type": ""
    },
    "tags": []
   },
   "outputs": [],
   "source": [
    "caspian_config = {\n",
    "    \"Leak_Enable\": True,\n",
    "    \"Min_Leak\": -1,\n",
    "    \"Max_Leak\": 4,\n",
    "    \"Min_Axon_Delay\": 0,\n",
    "    \"Max_Axon_Delay\": 0,\n",
    "    \"Min_Threshold\": 0,\n",
    "    \"Max_Threshold\": 127,\n",
    "    \"Min_Synapse_Delay\": 0,\n",
    "    \"Max_Synapse_Delay\": 255,\n",
    "    \"Min_Weight\": -127,\n",
    "    \"Max_Weight\": 127\n",
    "}\n",
    "\n",
    "Cpu = caspian.Processor\n",
    "\n",
    "npu = Cpu(caspian_config)"
   ]
  },
  {
   "cell_type": "markdown",
   "id": "5a93e2ed",
   "metadata": {
    "editable": true,
    "slideshow": {
     "slide_type": ""
    },
    "tags": []
   },
   "source": [
    "Now we can create our network, using the properties from RISP.  This exact process will be followed by every other processor type. To see the details about the network, we can print the network, which will provide the network's json representation."
   ]
  },
  {
   "cell_type": "code",
   "execution_count": 12,
   "id": "bcb4febf",
   "metadata": {
    "editable": true,
    "slideshow": {
     "slide_type": ""
    },
    "tags": []
   },
   "outputs": [],
   "source": [
    "net = neuro.Network()\n",
    "# fpath = \"experiment_tenn2_tenngineered-milling.json\"\n",
    "# fpath = \"../networks/b2_10.json\"\n",
    "# fpath = 'tests/combonet.json'\n",
    "fpath = \"../results/experiment_tenn2_mill20240417_1000t_n10_p100_e1000_s20.json\"\n",
    "with open(fpath) as f:\n",
    "    j = json.loads(f.read())\n",
    "net.from_json(j)\n",
    "processor_params = net.get_data(\"processor\")\n",
    "app_params = net.get_data(\"application\").to_python()\n",
    "# net.set_properties(proc.get_network_properties())\n",
    "# print(net)\n",
    "\n",
    "npu.load_network(net)\n",
    "neuro.track_all_output_events(npu, net)\n",
    "\n",
    "neuro.track_all_neuron_events(npu, net)\n",
    "net.make_sorted_node_vector()\n",
    "neuron_ids = [x.id for x in net.sorted_node_vector]"
   ]
  },
  {
   "cell_type": "markdown",
   "id": "060da998-208b-42c9-944e-b3bb14f30c3b",
   "metadata": {
    "editable": true,
    "slideshow": {
     "slide_type": ""
    },
    "tags": []
   },
   "source": [
    "### setup encoders/decoders"
   ]
  },
  {
   "cell_type": "code",
   "execution_count": 13,
   "id": "664f52f8-2337-492a-9926-6bd8c5c41bb2",
   "metadata": {
    "editable": true,
    "slideshow": {
     "slide_type": ""
    },
    "tags": []
   },
   "outputs": [],
   "source": [
    "def bool_to_one_hot(x: bool):\n",
    "    return (0, 1) if x else (1, 0)\n",
    "b2oh = bool_to_one_hot"
   ]
  },
  {
   "cell_type": "code",
   "execution_count": 14,
   "id": "872dd77a-1277-4fa8-ae1e-60c51fc0c660",
   "metadata": {
    "editable": true,
    "scrolled": true,
    "slideshow": {
     "slide_type": ""
    },
    "tags": []
   },
   "outputs": [
    {
     "name": "stdout",
     "output_type": "stream",
     "text": [
      "10\n"
     ]
    }
   ],
   "source": [
    "neuro_tpc = app_params['proc_ticks']\n",
    "# neuro_tpc = 10\n",
    "print(neuro_tpc)\n",
    "\n",
    "encoder_params = {\n",
    "    \"dmin\": [0] * 2,  # two bins for each binary input + random\n",
    "    \"dmax\": [1] * 2,\n",
    "    \"interval\": neuro_tpc,\n",
    "    \"named_encoders\": {\"s\": \"spikes\"},\n",
    "    \"use_encoders\": [\"s\"] * 2\n",
    "}\n",
    "decoder_params = {\n",
    "    # see notes near where decoder is used\n",
    "    \"dmin\": [0] * 4,\n",
    "    \"dmax\": [1] * 4,\n",
    "    \"divisor\": neuro_tpc,\n",
    "    \"named_decoders\": {\"r\": {\"rate\": {\"discrete\": False}}},\n",
    "    \"use_decoders\": [\"r\"] * 4\n",
    "}\n",
    "encoder = neuro.EncoderArray(encoder_params)\n",
    "decoder = neuro.DecoderArray(decoder_params)\n",
    "\n",
    "spikes = []"
   ]
  },
  {
   "cell_type": "markdown",
   "id": "7bd6160a-a959-41fa-8e84-b8f84ccd2c6c",
   "metadata": {
    "editable": true,
    "slideshow": {
     "slide_type": ""
    },
    "tags": []
   },
   "source": []
  },
  {
   "cell_type": "code",
   "execution_count": 15,
   "id": "a1011490-5817-4e5e-8e4a-0e0b92d6378c",
   "metadata": {
    "editable": true,
    "slideshow": {
     "slide_type": ""
    },
    "tags": []
   },
   "outputs": [],
   "source": [
    "def run_processor(vector):\n",
    "    spikes = encoder.get_spikes(vector)\n",
    "    npu.apply_spikes(spikes)\n",
    "    npu.run(5)\n",
    "    npu.run(neuro_tpc)\n",
    "    \n",
    "    neuron_counts = npu.neuron_counts()\n",
    "    data = decoder.get_data_from_processor(npu)\n",
    "    return neuron_counts, data"
   ]
  },
  {
   "cell_type": "code",
   "execution_count": 72,
   "id": "0060e9b3-3d1d-48dd-a446-9409b612c177",
   "metadata": {},
   "outputs": [],
   "source": [
    "spike_train = encoder.get_spikes((0,1))\n",
    "# [print(s) for s in spike_train]\n",
    "npu.apply_spikes(spike_train)"
   ]
  },
  {
   "cell_type": "code",
   "execution_count": 49,
   "id": "2434757d-3239-49e6-bdee-95023ea1f02e",
   "metadata": {
    "editable": true,
    "slideshow": {
     "slide_type": ""
    },
    "tags": []
   },
   "outputs": [
    {
     "name": "stdout",
     "output_type": "stream",
     "text": [
      "[0, 6, 0, 0, 0, 0, 0, 0, 0, 0, 0, 0, 0, 0, 0, 0] [0.0, 0.0, 0.0, 0.0]\n"
     ]
    }
   ],
   "source": [
    "print(*run_processor(b2oh(True)))"
   ]
  },
  {
   "cell_type": "code",
   "execution_count": 48,
   "id": "12ab95cf-b985-4278-85c7-9ef41798bf9c",
   "metadata": {},
   "outputs": [
    {
     "name": "stdout",
     "output_type": "stream",
     "text": [
      "[6, 0, 0, 5, 0, 0, 0, 0, 0, 0, 9, 0, 0, 0, 0, 0] [0.0, 0.5, 0.0, 0.0]\n"
     ]
    }
   ],
   "source": [
    "print(*run_processor(b2oh(False)))"
   ]
  },
  {
   "cell_type": "code",
   "execution_count": 35,
   "id": "9f595f6e-18dc-4055-8d01-70329be6a719",
   "metadata": {},
   "outputs": [],
   "source": [
    "spikes = []\n",
    "spikes.append(neuro.Spike(id=0, time=0, value=1.0))\n",
    "# spikes.append(neuro.Spike(id=0, time=1, value=0))\n",
    "# spikes.append(neuro.Spike(id=0, time=0, value=1))\n",
    "npu.apply_spikes(spikes)"
   ]
  },
  {
   "cell_type": "code",
   "execution_count": 61,
   "id": "cd2acc05-d5dd-41fd-a008-723d3f76b377",
   "metadata": {},
   "outputs": [],
   "source": [
    "# npu.run(200)"
   ]
  },
  {
   "cell_type": "code",
   "execution_count": 67,
   "id": "1f3f0d7e-fd6f-4d49-a232-fa85c9d543b8",
   "metadata": {},
   "outputs": [
    {
     "data": {
      "text/html": [
       "<table>\n",
       "<tbody>\n",
       "<tr><td>id</td><td>charge</td><td>fires</td><td>t_lastfire</td><td>t_fires                            </td></tr>\n",
       "<tr><td>0 </td><td>0.0   </td><td>0    </td><td>-1.0      </td><td>[]                                 </td></tr>\n",
       "<tr><td>1 </td><td>0.0   </td><td>6    </td><td>5.0       </td><td>[0.0, 1.0, 2.0, 3.0, 4.0, 5.0]     </td></tr>\n",
       "<tr><td>2 </td><td>0.0   </td><td>0    </td><td>-1.0      </td><td>[]                                 </td></tr>\n",
       "<tr><td>3 </td><td>255.0 </td><td>4    </td><td>8.0       </td><td>[2.0, 4.0, 6.0, 8.0]               </td></tr>\n",
       "<tr><td>4 </td><td>0.0   </td><td>0    </td><td>-1.0      </td><td>[]                                 </td></tr>\n",
       "<tr><td>5 </td><td>0.0   </td><td>2    </td><td>8.0       </td><td>[5.0, 8.0]                         </td></tr>\n",
       "<tr><td>6 </td><td>0.0   </td><td>0    </td><td>-1.0      </td><td>[]                                 </td></tr>\n",
       "<tr><td>7 </td><td>0.0   </td><td>7    </td><td>6.0       </td><td>[0.0, 1.0, 2.0, 3.0, 4.0, 5.0, 6.0]</td></tr>\n",
       "<tr><td>8 </td><td>0.0   </td><td>5    </td><td>9.0       </td><td>[1.0, 3.0, 5.0, 7.0, 9.0]          </td></tr>\n",
       "<tr><td>9 </td><td>61.0  </td><td>0    </td><td>-1.0      </td><td>[]                                 </td></tr>\n",
       "<tr><td>10</td><td>0.0   </td><td>7    </td><td>6.0       </td><td>[0.0, 1.0, 2.0, 3.0, 4.0, 5.0, 6.0]</td></tr>\n",
       "<tr><td>11</td><td>135.0 </td><td>2    </td><td>7.0       </td><td>[4.0, 7.0]                         </td></tr>\n",
       "<tr><td>12</td><td>0.0   </td><td>0    </td><td>-1.0      </td><td>[]                                 </td></tr>\n",
       "<tr><td>13</td><td>0.0   </td><td>0    </td><td>-1.0      </td><td>[]                                 </td></tr>\n",
       "<tr><td>14</td><td>0.0   </td><td>0    </td><td>-1.0      </td><td>[]                                 </td></tr>\n",
       "<tr><td>15</td><td>0.0   </td><td>7    </td><td>6.0       </td><td>[0.0, 1.0, 2.0, 3.0, 4.0, 5.0, 6.0]</td></tr>\n",
       "<tr><td>16</td><td>0.0   </td><td>0    </td><td>-1.0      </td><td>[]                                 </td></tr>\n",
       "<tr><td>17</td><td>-93.0 </td><td>0    </td><td>-1.0      </td><td>[]                                 </td></tr>\n",
       "<tr><td>18</td><td>0.0   </td><td>7    </td><td>6.0       </td><td>[0.0, 1.0, 2.0, 3.0, 4.0, 5.0, 6.0]</td></tr>\n",
       "<tr><td>19</td><td>0.0   </td><td>0    </td><td>-1.0      </td><td>[]                                 </td></tr>\n",
       "<tr><td>20</td><td>0.0   </td><td>0    </td><td>-1.0      </td><td>[]                                 </td></tr>\n",
       "</tbody>\n",
       "</table>"
      ],
      "text/plain": [
       "'<table>\\n<tbody>\\n<tr><td>id</td><td>charge</td><td>fires</td><td>t_lastfire</td><td>t_fires                            </td></tr>\\n<tr><td>0 </td><td>0.0   </td><td>0    </td><td>-1.0      </td><td>[]                                 </td></tr>\\n<tr><td>1 </td><td>0.0   </td><td>6    </td><td>5.0       </td><td>[0.0, 1.0, 2.0, 3.0, 4.0, 5.0]     </td></tr>\\n<tr><td>2 </td><td>0.0   </td><td>0    </td><td>-1.0      </td><td>[]                                 </td></tr>\\n<tr><td>3 </td><td>255.0 </td><td>4    </td><td>8.0       </td><td>[2.0, 4.0, 6.0, 8.0]               </td></tr>\\n<tr><td>4 </td><td>0.0   </td><td>0    </td><td>-1.0      </td><td>[]                                 </td></tr>\\n<tr><td>5 </td><td>0.0   </td><td>2    </td><td>8.0       </td><td>[5.0, 8.0]                         </td></tr>\\n<tr><td>6 </td><td>0.0   </td><td>0    </td><td>-1.0      </td><td>[]                                 </td></tr>\\n<tr><td>7 </td><td>0.0   </td><td>7    </td><td>6.0       </td><td>[0.0, 1.0, 2.0, 3.0, 4.0, 5.0, 6.0]</td></tr>\\n<tr><td>8 </td><td>0.0   </td><td>5    </td><td>9.0       </td><td>[1.0, 3.0, 5.0, 7.0, 9.0]          </td></tr>\\n<tr><td>9 </td><td>61.0  </td><td>0    </td><td>-1.0      </td><td>[]                                 </td></tr>\\n<tr><td>10</td><td>0.0   </td><td>7    </td><td>6.0       </td><td>[0.0, 1.0, 2.0, 3.0, 4.0, 5.0, 6.0]</td></tr>\\n<tr><td>11</td><td>135.0 </td><td>2    </td><td>7.0       </td><td>[4.0, 7.0]                         </td></tr>\\n<tr><td>12</td><td>0.0   </td><td>0    </td><td>-1.0      </td><td>[]                                 </td></tr>\\n<tr><td>13</td><td>0.0   </td><td>0    </td><td>-1.0      </td><td>[]                                 </td></tr>\\n<tr><td>14</td><td>0.0   </td><td>0    </td><td>-1.0      </td><td>[]                                 </td></tr>\\n<tr><td>15</td><td>0.0   </td><td>7    </td><td>6.0       </td><td>[0.0, 1.0, 2.0, 3.0, 4.0, 5.0, 6.0]</td></tr>\\n<tr><td>16</td><td>0.0   </td><td>0    </td><td>-1.0      </td><td>[]                                 </td></tr>\\n<tr><td>17</td><td>-93.0 </td><td>0    </td><td>-1.0      </td><td>[]                                 </td></tr>\\n<tr><td>18</td><td>0.0   </td><td>7    </td><td>6.0       </td><td>[0.0, 1.0, 2.0, 3.0, 4.0, 5.0, 6.0]</td></tr>\\n<tr><td>19</td><td>0.0   </td><td>0    </td><td>-1.0      </td><td>[]                                 </td></tr>\\n<tr><td>20</td><td>0.0   </td><td>0    </td><td>-1.0      </td><td>[]                                 </td></tr>\\n</tbody>\\n</table>'"
      ]
     },
     "execution_count": 67,
     "metadata": {},
     "output_type": "execute_result"
    }
   ],
   "source": [
    "counts = npu.neuron_counts()\n",
    "vectors = npu.neuron_vectors()\n",
    "lastfires = npu.neuron_last_fires()\n",
    "charges = npu.neuron_charges()\n",
    "\n",
    "data = zip(range(len(counts)), charges, counts, lastfires, vectors, )\n",
    "data = [['id', 'charge', 'fires', 't_lastfire', 't_fires',]] + list(data)\n",
    "tabulate.tabulate(data, tablefmt='html')"
   ]
  },
  {
   "cell_type": "markdown",
   "id": "d1754270",
   "metadata": {
    "editable": true,
    "slideshow": {
     "slide_type": ""
    },
    "tags": []
   },
   "source": [
    " "
   ]
  },
  {
   "cell_type": "code",
   "execution_count": null,
   "id": "6d83b0f3-7c99-4a79-8fe2-5a1ad75f50e8",
   "metadata": {},
   "outputs": [],
   "source": [
    "    "
   ]
  },
  {
   "cell_type": "code",
   "execution_count": null,
   "id": "09c8f22f-f151-4c58-9c76-1434f6e1cfdd",
   "metadata": {},
   "outputs": [],
   "source": []
  },
  {
   "cell_type": "code",
   "execution_count": null,
   "id": "46276589-f1c4-4631-9b7c-fa2f3791ea67",
   "metadata": {},
   "outputs": [],
   "source": []
  }
 ],
 "metadata": {
  "kernelspec": {
   "display_name": "pyframework",
   "language": "python",
   "name": "python3"
  },
  "language_info": {
   "codemirror_mode": {
    "name": "ipython",
    "version": 3
   },
   "file_extension": ".py",
   "mimetype": "text/x-python",
   "name": "python",
   "nbconvert_exporter": "python",
   "pygments_lexer": "ipython3",
   "version": "3.13.2"
  }
 },
 "nbformat": 4,
 "nbformat_minor": 5
}
